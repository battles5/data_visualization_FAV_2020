{
  "nbformat": 4,
  "nbformat_minor": 0,
  "metadata": {
    "colab": {
      "name": "Github-GoogleDrive-GoogleColab.ipynb",
      "provenance": [],
      "collapsed_sections": [],
      "toc_visible": true,
      "include_colab_link": true
    },
    "kernelspec": {
      "name": "python3",
      "display_name": "Python 3"
    }
  },
  "cells": [
    {
      "cell_type": "markdown",
      "metadata": {
        "id": "view-in-github",
        "colab_type": "text"
      },
      "source": [
        "<a href=\"https://colab.research.google.com/github/battles5/data_visualization_FAV_2020/blob/master/Github_GoogleDrive_GoogleColab.ipynb\" target=\"_parent\"><img src=\"https://colab.research.google.com/assets/colab-badge.svg\" alt=\"Open In Colab\"/></a>"
      ]
    },
    {
      "cell_type": "markdown",
      "metadata": {
        "id": "0b68U9SEpVnO",
        "colab_type": "text"
      },
      "source": [
        "## Github-GoogleDrive-GoogleColab Setup\n",
        "\n",
        "0. GoogleDrive: Andare su Google Drive creasi una cartella chiamata \"data_visualization\". Create un nuovo google colab file oppure aprite un Google-Colab del corso [data-visualization](https://github.com/visiont3lab/data-visualization), salvatelo e spostatelo in questa cartella.\n",
        "1. Github: Andare su [Github](https://github.com/) e creare un account \n",
        "2. Github: Creare un repository chiamato \"seaborn-data-visualization\" e creare un README.md di default.\n",
        "3. GoogleColab: Editare il seguent notebook aggiugendo codice o commenti.\n",
        "4. GoogleColab: Salvare il contenuto su Git (Save a Copy in Github)\n",
        "5. Github: Creare un file index.html con scritto dentro \"Test\" . Questa sarà la nostra pagine web di partenza. Più informazioni a  [Github Web Pages](https://pages.github.com/).\n",
        "6. Github: Vai su settings e cerchimao \"Github Pages\". Lo abilitiamo scegliendo \"master-branch. Possiamo anche scegliere un tema nella sezione \"Theme Choser\".\n",
        "Dovrebbe essere comparso sotto \"Github Pages\"\n",
        "> Your site is ready to be published at https://visiont3lab.github.io/seaborn-data-visualization/.\n",
        "7. GoogleColab: Convertire notebook (ipynb) in html e scaricalo localmente\n",
        "8. Github: Caricare il file html scaricato su Github. Importare è che il nome del file sia \"index.html\" "
      ]
    },
    {
      "cell_type": "markdown",
      "metadata": {
        "id": "GO3mNLjE5UwK",
        "colab_type": "text"
      },
      "source": [
        "## Convertire un notebook (ipynb) contenuto in un repository GIT (Github) in html"
      ]
    },
    {
      "cell_type": "code",
      "metadata": {
        "id": "T4i4vq2x4Bj-",
        "colab_type": "code",
        "outputId": "8b62c7c3-0b46-48b8-8c24-761b7e34b1ca",
        "colab": {
          "base_uri": "https://localhost:8080/",
          "height": 122
        }
      },
      "source": [
        "!git clone https://github.com/visiont3lab/seaborn-data-visualization.git"
      ],
      "execution_count": 0,
      "outputs": [
        {
          "output_type": "stream",
          "text": [
            "Cloning into 'seaborn-data-visualization'...\n",
            "remote: Enumerating objects: 9, done.\u001b[K\n",
            "remote: Counting objects: 100% (9/9), done.\u001b[K\n",
            "remote: Compressing objects: 100% (7/7), done.\u001b[K\n",
            "remote: Total 9 (delta 1), reused 0 (delta 0), pack-reused 0\u001b[K\n",
            "Unpacking objects: 100% (9/9), done.\n"
          ],
          "name": "stdout"
        }
      ]
    },
    {
      "cell_type": "code",
      "metadata": {
        "id": "hilAtz6W4N9u",
        "colab_type": "code",
        "outputId": "661033ab-f884-4e27-f828-0dcc32729d17",
        "colab": {
          "base_uri": "https://localhost:8080/",
          "height": 52
        }
      },
      "source": [
        "%cd seaborn-data-visualization/\n",
        "!ls"
      ],
      "execution_count": 0,
      "outputs": [
        {
          "output_type": "stream",
          "text": [
            "/content/seaborn-data-visualization\n",
            "Github_GOOGLEColab.ipynb  index.html  README.md\n"
          ],
          "name": "stdout"
        }
      ]
    },
    {
      "cell_type": "code",
      "metadata": {
        "id": "y4FcX8Do4Sn4",
        "colab_type": "code",
        "outputId": "7af8c3c7-4ee2-44a6-df92-4ac99d266011",
        "colab": {
          "base_uri": "https://localhost:8080/",
          "height": 70
        }
      },
      "source": [
        "#jupyter nbconvert --to <output format> <filename.ipynb>\n",
        "!jupyter nbconvert --to html Github_GOOGLEColab.ipynb\n",
        "!ls"
      ],
      "execution_count": 0,
      "outputs": [
        {
          "output_type": "stream",
          "text": [
            "[NbConvertApp] Converting notebook Github_GOOGLEColab.ipynb to html\n",
            "[NbConvertApp] Writing 274084 bytes to Github_GOOGLEColab.html\n",
            "Github_GOOGLEColab.html  Github_GOOGLEColab.ipynb  index.html  README.md\n"
          ],
          "name": "stdout"
        }
      ]
    },
    {
      "cell_type": "markdown",
      "metadata": {
        "id": "efodPTLPjyqv",
        "colab_type": "text"
      },
      "source": [
        "## Convertire un notebook (ipynb) contenuto in un repository GOOGLE DRIVE in html"
      ]
    },
    {
      "cell_type": "code",
      "metadata": {
        "id": "-u2gM9i2kEue",
        "colab_type": "code",
        "outputId": "1f69b1ab-6907-4d33-ad43-436ea339de58",
        "colab": {
          "base_uri": "https://localhost:8080/",
          "height": 125
        }
      },
      "source": [
        "from google.colab import drive\n",
        "drive.mount('/content/gdrive')"
      ],
      "execution_count": 1,
      "outputs": [
        {
          "output_type": "stream",
          "text": [
            "Go to this URL in a browser: https://accounts.google.com/o/oauth2/auth?client_id=947318989803-6bn6qk8qdgf4n4g3pfee6491hc0brc4i.apps.googleusercontent.com&redirect_uri=urn%3aietf%3awg%3aoauth%3a2.0%3aoob&response_type=code&scope=email%20https%3a%2f%2fwww.googleapis.com%2fauth%2fdocs.test%20https%3a%2f%2fwww.googleapis.com%2fauth%2fdrive%20https%3a%2f%2fwww.googleapis.com%2fauth%2fdrive.photos.readonly%20https%3a%2f%2fwww.googleapis.com%2fauth%2fpeopleapi.readonly\n",
            "\n",
            "Enter your authorization code:\n",
            "··········\n",
            "Mounted at /content/gdrive\n"
          ],
          "name": "stdout"
        }
      ]
    },
    {
      "cell_type": "code",
      "metadata": {
        "id": "9P5l2tgEkEtq",
        "colab_type": "code",
        "outputId": "61a88bb8-a747-41f5-f92a-e382c11231eb",
        "colab": {
          "base_uri": "https://localhost:8080/",
          "height": 70
        }
      },
      "source": [
        "%cd /content/gdrive/My Drive/Colab Notebooks/github-datavisualization\n",
        "!ls"
      ],
      "execution_count": 3,
      "outputs": [
        {
          "output_type": "stream",
          "text": [
            "/content/gdrive/My Drive/Colab Notebooks/github-datavisualization\n",
            "'ARCHIVIO TECNICO.xlsx'   Github-GoogleDrive-GoogleColab.ipynb\n",
            " fd.ipynb\t\t  Seaborn.ipynb\n"
          ],
          "name": "stdout"
        }
      ]
    },
    {
      "cell_type": "code",
      "metadata": {
        "id": "rwDCemjTXPEs",
        "colab_type": "code",
        "colab": {
          "base_uri": "https://localhost:8080/",
          "height": 265
        },
        "outputId": "57889550-e18d-45a6-ad33-be08e3457477"
      },
      "source": [
        "import pandas as pd\n",
        "df = pd.read_excel(\"ARCHIVIO TECNICO.xlsx\")\n",
        "df.head"
      ],
      "execution_count": 7,
      "outputs": [
        {
          "output_type": "execute_result",
          "data": {
            "text/plain": [
              "<bound method NDFrame.head of      #  ...  SETTORE ARCHIVIO\n",
              "0    1  ...            PIPING\n",
              "1    2  ...   APPARECCHIATURE\n",
              "2    3  ...  PRODOTTI CHIMICI\n",
              "3    4  ...   APPARECCHIATURE\n",
              "4    5  ...   APPARECCHIATURE\n",
              "..  ..  ...               ...\n",
              "89  90  ...            PIPING\n",
              "90  91  ...            PIPING\n",
              "91  92  ...          IMPIANTI\n",
              "92  93  ...   APPARECCHIATURE\n",
              "93  94  ...               NaN\n",
              "\n",
              "[94 rows x 4 columns]>"
            ]
          },
          "metadata": {
            "tags": []
          },
          "execution_count": 7
        }
      ]
    },
    {
      "cell_type": "code",
      "metadata": {
        "id": "SExz6-2bkzab",
        "colab_type": "code",
        "outputId": "cab6de20-1015-4459-ae6b-4dac80cf465c",
        "colab": {
          "base_uri": "https://localhost:8080/",
          "height": 87
        }
      },
      "source": [
        "#jupyter nbconvert --to <output format> <filename.ipynb>\n",
        "!jupyter nbconvert --to html Seaborn.ipynb --output my.html\n",
        "!ls"
      ],
      "execution_count": 9,
      "outputs": [
        {
          "output_type": "stream",
          "text": [
            "[NbConvertApp] Converting notebook Seaborn.ipynb to html\n",
            "[NbConvertApp] Writing 1274028 bytes to my.html\n",
            "'ARCHIVIO TECNICO.xlsx'   Github-GoogleDrive-GoogleColab.ipynb\t mypdf.pdf.html\n",
            " fd.ipynb\t\t  my.html\t\t\t\t Seaborn.ipynb\n"
          ],
          "name": "stdout"
        }
      ]
    },
    {
      "cell_type": "code",
      "metadata": {
        "id": "6E20AyFJordk",
        "colab_type": "code",
        "colab": {}
      },
      "source": [
        ""
      ],
      "execution_count": 0,
      "outputs": []
    }
  ]
}